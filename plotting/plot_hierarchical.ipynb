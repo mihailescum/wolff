{
 "cells": [
  {
   "cell_type": "code",
   "execution_count": 101,
   "metadata": {
    "metadata": {}
   },
   "outputs": [],
   "source": [
    "import numpy as np\n",
    "import matplotlib.pyplot as plt\n",
    "import math "
   ]
  },
  {
   "cell_type": "code",
   "execution_count": 102,
   "metadata": {},
   "outputs": [],
   "source": [
    "def get_depth_offset(depth, L, D):\n",
    "    nv_box = L ** D\n",
    "    return int((nv_box ** (depth + 1) - 1) / (nv_box - 1) - 1)"
   ]
  },
  {
   "cell_type": "code",
   "execution_count": 103,
   "metadata": {
    "metadata": {}
   },
   "outputs": [],
   "source": [
    "D, L, R = (2, 8, 3)\n",
    "file = \"hierarchical_out\"\n",
    "data = np.loadtxt(f\"{file}.txt\").reshape((get_depth_offset(R, L, D), 2))"
   ]
  },
  {
   "cell_type": "code",
   "execution_count": 104,
   "metadata": {
    "metadata": {}
   },
   "outputs": [
    {
     "data": {
      "text/plain": [
       "(-3.1403306542597647, 3.1342527854011673, -0.831261036056169)"
      ]
     },
     "execution_count": 104,
     "metadata": {},
     "output_type": "execute_result"
    }
   ],
   "source": [
    "angles = np.arctan2(data[:,0], data[:,1])\n",
    "angles.min(), angles.max(), angles.mean()"
   ]
  },
  {
   "cell_type": "code",
   "execution_count": 111,
   "metadata": {},
   "outputs": [],
   "source": [
    "depth = 0\n",
    "size = L ** (depth + 1)\n",
    "array = np.zeros(size*size).reshape((size,size))\n",
    "\n",
    "offset_level = get_depth_offset(depth, L, D)\n",
    "size_level = L ** (depth)\n",
    "\n",
    "for i in range(size_level ** 2):\n",
    "    x = (i // size_level) * size_level\n",
    "    y = (i % size_level) * size_level\n",
    "    array[x:x+size_level, y:y+size_level] = angles[offset_level + i * size_level ** 2:offset_level + (i+1) * size_level ** 2].reshape(size_level, size_level)"
   ]
  },
  {
   "cell_type": "code",
   "execution_count": 112,
   "metadata": {
    "metadata": {}
   },
   "outputs": [
    {
     "data": {
      "image/png": "[encoded data removed]",
      "text/plain": [
       "<Figure size 640x480 with 2 Axes>"
      ]
     },
     "metadata": {},
     "output_type": "display_data"
    }
   ],
   "source": [
    "from mpl_toolkits.axes_grid1 import make_axes_locatable\n",
    "\n",
    "fig, ax = plt.subplots()\n",
    "divider = make_axes_locatable(ax)\n",
    "cax = divider.append_axes('right', size='5%', pad=0.05)\n",
    "\n",
    "im = ax.imshow(array, cmap=\"twilight_shifted\",interpolation='none')\n",
    "ax.get_xaxis().set_visible(False)\n",
    "ax.get_yaxis().set_visible(False)\n",
    "cbar = fig.colorbar(im, cax=cax, orientation='vertical', ticks=[-math.pi/2, 0, math.pi / 2])\n",
    "cbar.set_ticklabels([\"-π/2\", 0, \"π/2\"])\n",
    "\n",
    "fig.tight_layout()\n",
    "fig.savefig(f\"{file}.eps\", format=\"eps\", transparent=True,bbox_inches='tight', pad_inches=0)"
   ]
  },
  {
   "cell_type": "code",
   "execution_count": null,
   "metadata": {},
   "outputs": [],
   "source": []
  }
 ],
 "metadata": {
  "kernelspec": {
   "display_name": "onmodels",
   "language": "python",
   "name": "python3"
  },
  "language_info": {
   "codemirror_mode": {
    "name": "ipython",
    "version": 3
   },
   "file_extension": ".py",
   "mimetype": "text/x-python",
   "name": "python",
   "nbconvert_exporter": "python",
   "pygments_lexer": "ipython3",
   "version": "3.11.4"
  }
 },
 "nbformat": 4,
 "nbformat_minor": 2
}
